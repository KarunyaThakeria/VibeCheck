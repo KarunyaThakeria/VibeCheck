{
 "cells": [
  {
   "cell_type": "code",
   "execution_count": null,
   "id": "76f89e3f-8091-47be-967c-03c3d65069d6",
   "metadata": {},
   "outputs": [],
   "source": [
    "import pandas as pd\n",
    "import numpy as np\n",
    "import re\n",
    "import string\n",
    "from nltk.stem.wordnet import WordNetLemmatizer\n",
    "from timeit import default_timer as timer\n",
    "\n",
    "import matplotlib.pyplot as plt\n",
    "import seaborn as sns\n",
    "\n",
    "from sklearn.feature_extraction.text import TfidfVectorizer\n",
    "from sklearn.linear_model import LogisticRegression\n",
    "from sklearn.naive_bayes import MultinomialNB\n",
    "from sklearn.svm import LinearSVC\n",
    "\n",
    "from sklearn.metrics import accuracy_score, f1_score, recall_score\n",
    "from sklearn.metrics import confusion_matrix\n",
    "from sklearn.model_selection import cross_val_score\n",
    "from statistics import mean\n",
    "from sklearn.metrics import hamming_loss\n",
    "from sklearn.model_selection import StratifiedKFold\n",
    "from sklearn.model_selection import GridSearchCV\n",
    "\n",
    "\n",
    "from sklearn.pipeline import Pipeline\n",
    "\n",
    "\n",
    "\n",
    "import warnings\n",
    "warnings.filterwarnings('ignore')\n",
    "\n",
    "%matplotlib inline"
   ]
  },
  {
   "cell_type": "code",
   "execution_count": 2,
   "id": "d1d972d4-f65d-44dd-9813-9f37a7f51079",
   "metadata": {},
   "outputs": [],
   "source": [
    "#Loading data\n",
    "train = pd.read_csv(\"SE/train(T).csv\")\n",
    "test = pd.read_csv(\"SE/test(T).csv\")\n",
    "test_y = pd.read_csv(\"SE/test_labels(T).csv\")"
   ]
  },
  {
   "cell_type": "markdown",
   "id": "6a849850-096a-48ec-9e46-5ce1d48bf94c",
   "metadata": {},
   "source": [
    "#EDA"
   ]
  },
  {
   "cell_type": "code",
   "execution_count": 4,
   "id": "bdb5c530-60e7-4b09-9c78-10fab2eb5d33",
   "metadata": {},
   "outputs": [
    {
     "data": {
      "text/html": [
       "<div>\n",
       "<style scoped>\n",
       "    .dataframe tbody tr th:only-of-type {\n",
       "        vertical-align: middle;\n",
       "    }\n",
       "\n",
       "    .dataframe tbody tr th {\n",
       "        vertical-align: top;\n",
       "    }\n",
       "\n",
       "    .dataframe thead th {\n",
       "        text-align: right;\n",
       "    }\n",
       "</style>\n",
       "<table border=\"1\" class=\"dataframe\">\n",
       "  <thead>\n",
       "    <tr style=\"text-align: right;\">\n",
       "      <th></th>\n",
       "      <th>id</th>\n",
       "      <th>comment_text</th>\n",
       "      <th>toxic</th>\n",
       "      <th>severe_toxic</th>\n",
       "      <th>obscene</th>\n",
       "      <th>threat</th>\n",
       "      <th>insult</th>\n",
       "      <th>identity_hate</th>\n",
       "    </tr>\n",
       "  </thead>\n",
       "  <tbody>\n",
       "    <tr>\n",
       "      <th>0</th>\n",
       "      <td>0000997932d777bf</td>\n",
       "      <td>Explanation\\nWhy the edits made under my usern...</td>\n",
       "      <td>0</td>\n",
       "      <td>0</td>\n",
       "      <td>0</td>\n",
       "      <td>0</td>\n",
       "      <td>0</td>\n",
       "      <td>0</td>\n",
       "    </tr>\n",
       "    <tr>\n",
       "      <th>1</th>\n",
       "      <td>000103f0d9cfb60f</td>\n",
       "      <td>D'aww! He matches this background colour I'm s...</td>\n",
       "      <td>0</td>\n",
       "      <td>0</td>\n",
       "      <td>0</td>\n",
       "      <td>0</td>\n",
       "      <td>0</td>\n",
       "      <td>0</td>\n",
       "    </tr>\n",
       "    <tr>\n",
       "      <th>2</th>\n",
       "      <td>000113f07ec002fd</td>\n",
       "      <td>Hey man, I'm really not trying to edit war. It...</td>\n",
       "      <td>0</td>\n",
       "      <td>0</td>\n",
       "      <td>0</td>\n",
       "      <td>0</td>\n",
       "      <td>0</td>\n",
       "      <td>0</td>\n",
       "    </tr>\n",
       "    <tr>\n",
       "      <th>3</th>\n",
       "      <td>0001b41b1c6bb37e</td>\n",
       "      <td>\"\\nMore\\nI can't make any real suggestions on ...</td>\n",
       "      <td>0</td>\n",
       "      <td>0</td>\n",
       "      <td>0</td>\n",
       "      <td>0</td>\n",
       "      <td>0</td>\n",
       "      <td>0</td>\n",
       "    </tr>\n",
       "    <tr>\n",
       "      <th>4</th>\n",
       "      <td>0001d958c54c6e35</td>\n",
       "      <td>You, sir, are my hero. Any chance you remember...</td>\n",
       "      <td>0</td>\n",
       "      <td>0</td>\n",
       "      <td>0</td>\n",
       "      <td>0</td>\n",
       "      <td>0</td>\n",
       "      <td>0</td>\n",
       "    </tr>\n",
       "  </tbody>\n",
       "</table>\n",
       "</div>"
      ],
      "text/plain": [
       "                 id                                       comment_text  toxic  \\\n",
       "0  0000997932d777bf  Explanation\\nWhy the edits made under my usern...      0   \n",
       "1  000103f0d9cfb60f  D'aww! He matches this background colour I'm s...      0   \n",
       "2  000113f07ec002fd  Hey man, I'm really not trying to edit war. It...      0   \n",
       "3  0001b41b1c6bb37e  \"\\nMore\\nI can't make any real suggestions on ...      0   \n",
       "4  0001d958c54c6e35  You, sir, are my hero. Any chance you remember...      0   \n",
       "\n",
       "   severe_toxic  obscene  threat  insult  identity_hate  \n",
       "0             0        0       0       0              0  \n",
       "1             0        0       0       0              0  \n",
       "2             0        0       0       0              0  \n",
       "3             0        0       0       0              0  \n",
       "4             0        0       0       0              0  "
      ]
     },
     "execution_count": 4,
     "metadata": {},
     "output_type": "execute_result"
    }
   ],
   "source": [
    "train.head()"
   ]
  },
  {
   "cell_type": "code",
   "execution_count": 5,
   "id": "da06212c-0822-42ef-836e-5ad7ed2b0375",
   "metadata": {},
   "outputs": [
    {
     "data": {
      "text/html": [
       "<div>\n",
       "<style scoped>\n",
       "    .dataframe tbody tr th:only-of-type {\n",
       "        vertical-align: middle;\n",
       "    }\n",
       "\n",
       "    .dataframe tbody tr th {\n",
       "        vertical-align: top;\n",
       "    }\n",
       "\n",
       "    .dataframe thead th {\n",
       "        text-align: right;\n",
       "    }\n",
       "</style>\n",
       "<table border=\"1\" class=\"dataframe\">\n",
       "  <thead>\n",
       "    <tr style=\"text-align: right;\">\n",
       "      <th></th>\n",
       "      <th>toxic</th>\n",
       "      <th>severe_toxic</th>\n",
       "      <th>obscene</th>\n",
       "      <th>threat</th>\n",
       "      <th>insult</th>\n",
       "      <th>identity_hate</th>\n",
       "    </tr>\n",
       "  </thead>\n",
       "  <tbody>\n",
       "    <tr>\n",
       "      <th>count</th>\n",
       "      <td>159571.000000</td>\n",
       "      <td>159571.000000</td>\n",
       "      <td>159571.000000</td>\n",
       "      <td>159571.000000</td>\n",
       "      <td>159571.000000</td>\n",
       "      <td>159571.000000</td>\n",
       "    </tr>\n",
       "    <tr>\n",
       "      <th>mean</th>\n",
       "      <td>0.095844</td>\n",
       "      <td>0.009996</td>\n",
       "      <td>0.052948</td>\n",
       "      <td>0.002996</td>\n",
       "      <td>0.049364</td>\n",
       "      <td>0.008805</td>\n",
       "    </tr>\n",
       "    <tr>\n",
       "      <th>std</th>\n",
       "      <td>0.294379</td>\n",
       "      <td>0.099477</td>\n",
       "      <td>0.223931</td>\n",
       "      <td>0.054650</td>\n",
       "      <td>0.216627</td>\n",
       "      <td>0.093420</td>\n",
       "    </tr>\n",
       "    <tr>\n",
       "      <th>min</th>\n",
       "      <td>0.000000</td>\n",
       "      <td>0.000000</td>\n",
       "      <td>0.000000</td>\n",
       "      <td>0.000000</td>\n",
       "      <td>0.000000</td>\n",
       "      <td>0.000000</td>\n",
       "    </tr>\n",
       "    <tr>\n",
       "      <th>25%</th>\n",
       "      <td>0.000000</td>\n",
       "      <td>0.000000</td>\n",
       "      <td>0.000000</td>\n",
       "      <td>0.000000</td>\n",
       "      <td>0.000000</td>\n",
       "      <td>0.000000</td>\n",
       "    </tr>\n",
       "    <tr>\n",
       "      <th>50%</th>\n",
       "      <td>0.000000</td>\n",
       "      <td>0.000000</td>\n",
       "      <td>0.000000</td>\n",
       "      <td>0.000000</td>\n",
       "      <td>0.000000</td>\n",
       "      <td>0.000000</td>\n",
       "    </tr>\n",
       "    <tr>\n",
       "      <th>75%</th>\n",
       "      <td>0.000000</td>\n",
       "      <td>0.000000</td>\n",
       "      <td>0.000000</td>\n",
       "      <td>0.000000</td>\n",
       "      <td>0.000000</td>\n",
       "      <td>0.000000</td>\n",
       "    </tr>\n",
       "    <tr>\n",
       "      <th>max</th>\n",
       "      <td>1.000000</td>\n",
       "      <td>1.000000</td>\n",
       "      <td>1.000000</td>\n",
       "      <td>1.000000</td>\n",
       "      <td>1.000000</td>\n",
       "      <td>1.000000</td>\n",
       "    </tr>\n",
       "  </tbody>\n",
       "</table>\n",
       "</div>"
      ],
      "text/plain": [
       "               toxic   severe_toxic        obscene         threat  \\\n",
       "count  159571.000000  159571.000000  159571.000000  159571.000000   \n",
       "mean        0.095844       0.009996       0.052948       0.002996   \n",
       "std         0.294379       0.099477       0.223931       0.054650   \n",
       "min         0.000000       0.000000       0.000000       0.000000   \n",
       "25%         0.000000       0.000000       0.000000       0.000000   \n",
       "50%         0.000000       0.000000       0.000000       0.000000   \n",
       "75%         0.000000       0.000000       0.000000       0.000000   \n",
       "max         1.000000       1.000000       1.000000       1.000000   \n",
       "\n",
       "              insult  identity_hate  \n",
       "count  159571.000000  159571.000000  \n",
       "mean        0.049364       0.008805  \n",
       "std         0.216627       0.093420  \n",
       "min         0.000000       0.000000  \n",
       "25%         0.000000       0.000000  \n",
       "50%         0.000000       0.000000  \n",
       "75%         0.000000       0.000000  \n",
       "max         1.000000       1.000000  "
      ]
     },
     "execution_count": 5,
     "metadata": {},
     "output_type": "execute_result"
    }
   ],
   "source": [
    "train.describe()"
   ]
  },
  {
   "cell_type": "code",
   "execution_count": 6,
   "id": "31ac65f0-759b-4758-bdf6-856c782f8fed",
   "metadata": {},
   "outputs": [
    {
     "data": {
      "text/html": [
       "<div>\n",
       "<style scoped>\n",
       "    .dataframe tbody tr th:only-of-type {\n",
       "        vertical-align: middle;\n",
       "    }\n",
       "\n",
       "    .dataframe tbody tr th {\n",
       "        vertical-align: top;\n",
       "    }\n",
       "\n",
       "    .dataframe thead th {\n",
       "        text-align: right;\n",
       "    }\n",
       "</style>\n",
       "<table border=\"1\" class=\"dataframe\">\n",
       "  <thead>\n",
       "    <tr style=\"text-align: right;\">\n",
       "      <th></th>\n",
       "      <th>id</th>\n",
       "      <th>comment_text</th>\n",
       "    </tr>\n",
       "  </thead>\n",
       "  <tbody>\n",
       "    <tr>\n",
       "      <th>0</th>\n",
       "      <td>00001cee341fdb12</td>\n",
       "      <td>Yo bitch Ja Rule is more succesful then you'll...</td>\n",
       "    </tr>\n",
       "    <tr>\n",
       "      <th>1</th>\n",
       "      <td>0000247867823ef7</td>\n",
       "      <td>== From RfC == \\n\\n The title is fine as it is...</td>\n",
       "    </tr>\n",
       "    <tr>\n",
       "      <th>2</th>\n",
       "      <td>00013b17ad220c46</td>\n",
       "      <td>\" \\n\\n == Sources == \\n\\n * Zawe Ashton on Lap...</td>\n",
       "    </tr>\n",
       "    <tr>\n",
       "      <th>3</th>\n",
       "      <td>00017563c3f7919a</td>\n",
       "      <td>:If you have a look back at the source, the in...</td>\n",
       "    </tr>\n",
       "    <tr>\n",
       "      <th>4</th>\n",
       "      <td>00017695ad8997eb</td>\n",
       "      <td>I don't anonymously edit articles at all.</td>\n",
       "    </tr>\n",
       "  </tbody>\n",
       "</table>\n",
       "</div>"
      ],
      "text/plain": [
       "                 id                                       comment_text\n",
       "0  00001cee341fdb12  Yo bitch Ja Rule is more succesful then you'll...\n",
       "1  0000247867823ef7  == From RfC == \\n\\n The title is fine as it is...\n",
       "2  00013b17ad220c46  \" \\n\\n == Sources == \\n\\n * Zawe Ashton on Lap...\n",
       "3  00017563c3f7919a  :If you have a look back at the source, the in...\n",
       "4  00017695ad8997eb          I don't anonymously edit articles at all."
      ]
     },
     "execution_count": 6,
     "metadata": {},
     "output_type": "execute_result"
    }
   ],
   "source": [
    "test.head()"
   ]
  },
  {
   "cell_type": "code",
   "execution_count": 7,
   "id": "448705ef-a845-4164-b1f0-ae26d49dfbb8",
   "metadata": {},
   "outputs": [
    {
     "data": {
      "text/html": [
       "<div>\n",
       "<style scoped>\n",
       "    .dataframe tbody tr th:only-of-type {\n",
       "        vertical-align: middle;\n",
       "    }\n",
       "\n",
       "    .dataframe tbody tr th {\n",
       "        vertical-align: top;\n",
       "    }\n",
       "\n",
       "    .dataframe thead th {\n",
       "        text-align: right;\n",
       "    }\n",
       "</style>\n",
       "<table border=\"1\" class=\"dataframe\">\n",
       "  <thead>\n",
       "    <tr style=\"text-align: right;\">\n",
       "      <th></th>\n",
       "      <th>id</th>\n",
       "      <th>toxic</th>\n",
       "      <th>severe_toxic</th>\n",
       "      <th>obscene</th>\n",
       "      <th>threat</th>\n",
       "      <th>insult</th>\n",
       "      <th>identity_hate</th>\n",
       "    </tr>\n",
       "  </thead>\n",
       "  <tbody>\n",
       "    <tr>\n",
       "      <th>0</th>\n",
       "      <td>00001cee341fdb12</td>\n",
       "      <td>-1</td>\n",
       "      <td>-1</td>\n",
       "      <td>-1</td>\n",
       "      <td>-1</td>\n",
       "      <td>-1</td>\n",
       "      <td>-1</td>\n",
       "    </tr>\n",
       "    <tr>\n",
       "      <th>1</th>\n",
       "      <td>0000247867823ef7</td>\n",
       "      <td>-1</td>\n",
       "      <td>-1</td>\n",
       "      <td>-1</td>\n",
       "      <td>-1</td>\n",
       "      <td>-1</td>\n",
       "      <td>-1</td>\n",
       "    </tr>\n",
       "    <tr>\n",
       "      <th>2</th>\n",
       "      <td>00013b17ad220c46</td>\n",
       "      <td>-1</td>\n",
       "      <td>-1</td>\n",
       "      <td>-1</td>\n",
       "      <td>-1</td>\n",
       "      <td>-1</td>\n",
       "      <td>-1</td>\n",
       "    </tr>\n",
       "    <tr>\n",
       "      <th>3</th>\n",
       "      <td>00017563c3f7919a</td>\n",
       "      <td>-1</td>\n",
       "      <td>-1</td>\n",
       "      <td>-1</td>\n",
       "      <td>-1</td>\n",
       "      <td>-1</td>\n",
       "      <td>-1</td>\n",
       "    </tr>\n",
       "    <tr>\n",
       "      <th>4</th>\n",
       "      <td>00017695ad8997eb</td>\n",
       "      <td>-1</td>\n",
       "      <td>-1</td>\n",
       "      <td>-1</td>\n",
       "      <td>-1</td>\n",
       "      <td>-1</td>\n",
       "      <td>-1</td>\n",
       "    </tr>\n",
       "  </tbody>\n",
       "</table>\n",
       "</div>"
      ],
      "text/plain": [
       "                 id  toxic  severe_toxic  obscene  threat  insult  \\\n",
       "0  00001cee341fdb12     -1            -1       -1      -1      -1   \n",
       "1  0000247867823ef7     -1            -1       -1      -1      -1   \n",
       "2  00013b17ad220c46     -1            -1       -1      -1      -1   \n",
       "3  00017563c3f7919a     -1            -1       -1      -1      -1   \n",
       "4  00017695ad8997eb     -1            -1       -1      -1      -1   \n",
       "\n",
       "   identity_hate  \n",
       "0             -1  \n",
       "1             -1  \n",
       "2             -1  \n",
       "3             -1  \n",
       "4             -1  "
      ]
     },
     "execution_count": 7,
     "metadata": {},
     "output_type": "execute_result"
    }
   ],
   "source": [
    "test_y.head()"
   ]
  },
  {
   "cell_type": "code",
   "execution_count": 8,
   "id": "d2766093-1927-4ac7-8493-3936d689db15",
   "metadata": {},
   "outputs": [
    {
     "data": {
      "text/plain": [
       "(159571, 8)"
      ]
     },
     "execution_count": 8,
     "metadata": {},
     "output_type": "execute_result"
    }
   ],
   "source": [
    "train.shape"
   ]
  },
  {
   "cell_type": "code",
   "execution_count": 9,
   "id": "12a26e84-9f9b-4bdb-8832-6328667509e8",
   "metadata": {},
   "outputs": [
    {
     "data": {
      "text/plain": [
       "(153164, 2)"
      ]
     },
     "execution_count": 9,
     "metadata": {},
     "output_type": "execute_result"
    }
   ],
   "source": [
    "test.shape"
   ]
  },
  {
   "cell_type": "code",
   "execution_count": 10,
   "id": "05539b39-97ff-4df0-b158-35d1a2528abe",
   "metadata": {},
   "outputs": [
    {
     "data": {
      "text/plain": [
       "<Axes: xlabel='comment_text'>"
      ]
     },
     "execution_count": 10,
     "metadata": {},
     "output_type": "execute_result"
    },
    {
     "data": {
      "image/png": "[encoded data removed]",
      "text/plain": [
       "<Figure size 640x480 with 1 Axes>"
      ]
     },
     "metadata": {},
     "output_type": "display_data"
    }
   ],
   "source": [
    "sns.set(color_codes=True)\n",
    "comment_len = train.comment_text.str.len()\n",
    "sns.distplot(comment_len, kde=False, bins=20)"
   ]
  },
  {
   "cell_type": "code",
   "execution_count": 11,
   "id": "160f6b2f-71f2-4c8f-81f3-db6f1e2ee77e",
   "metadata": {},
   "outputs": [
    {
     "data": {
      "text/plain": [
       "<Axes: title={'center': 'Labels Frequency'}>"
      ]
     },
     "execution_count": 11,
     "metadata": {},
     "output_type": "execute_result"
    },
    {
     "data": {
      "image/png": "[encoded data removed]",
      "text/plain": [
       "<Figure size 640x480 with 1 Axes>"
      ]
     },
     "metadata": {},
     "output_type": "display_data"
    }
   ],
   "source": [
    "# Subsetting labels from the training data\n",
    "train_labels = train[['toxic', 'severe_toxic',\n",
    "                      'obscene', 'threat', 'insult', 'identity_hate']]\n",
    "label_count = train_labels.sum()\n",
    "label_count.plot(kind='bar', title='Labels Frequency', color='steelblue')"
   ]
  },
  {
   "cell_type": "code",
   "execution_count": 12,
   "id": "d79edf3f-76d6-4f0e-89bb-7cc171f6978e",
   "metadata": {},
   "outputs": [],
   "source": [
    "#Toxic is most common label"
   ]
  },
  {
   "cell_type": "code",
   "execution_count": 13,
   "id": "cb84ad4e-48e3-4908-8568-6781e5b89b04",
   "metadata": {},
   "outputs": [
    {
     "data": {
      "image/png": "[encoded data removed]",
      "text/plain": [
       "<Figure size 640x480 with 1 Axes>"
      ]
     },
     "metadata": {},
     "output_type": "display_data"
    }
   ],
   "source": [
    "# Code to draw bar graph for visualising distribution of classes within each label.\n",
    "barWidth = 0.25\n",
    "\n",
    "bars1 = [sum(train['toxic'] == 1), sum(train['obscene'] == 1), sum(train['insult'] == 1), sum(train['severe_toxic'] == 1),\n",
    "         sum(train['identity_hate'] == 1), sum(train['threat'] == 1)]\n",
    "bars2 = [sum(train['toxic'] == 0), sum(train['obscene'] == 0), sum(train['insult'] == 0), sum(train['severe_toxic'] == 0),\n",
    "         sum(train['identity_hate'] == 0), sum(train['threat'] == 0)]\n",
    "\n",
    "r1 = np.arange(len(bars1))\n",
    "r2 = [x + barWidth for x in r1]\n",
    "\n",
    "plt.bar(r1, bars1, color='steelblue', width=barWidth, label='labeled = 1')\n",
    "plt.bar(r2, bars2, color='lightsteelblue', width=barWidth, label='labeled = 0')\n",
    "\n",
    "plt.xlabel('group', fontweight='bold')\n",
    "plt.xticks([r + barWidth for r in range(len(bars1))], ['Toxic', 'Obscene', 'Insult', 'Severe Toxic', 'Identity Hate',\n",
    "                                                       'Threat'])\n",
    "plt.legend()\n",
    "plt.show()"
   ]
  },
  {
   "cell_type": "code",
   "execution_count": 14,
   "id": "e5a67f3e-1d34-421b-9575-73ba9020780c",
   "metadata": {},
   "outputs": [],
   "source": [
    "#The above plot is for the labeled data frequency. \n",
    "#There is significant class imbalance since majority of the comments are considered non-toxic."
   ]
  },
  {
   "cell_type": "code",
   "execution_count": 15,
   "id": "5516b121-897f-4b6d-87da-c23e95a2e18f",
   "metadata": {},
   "outputs": [
    {
     "data": {
      "text/plain": [
       "\"Explanation\\nWhy the edits made under my username Hardcore Metallica Fan were reverted? They weren't vandalisms, just closure on some GAs after I voted at New York Dolls FAC. And please don't remove the template from the talk page since I'm retired now.89.205.38.27\""
      ]
     },
     "execution_count": 15,
     "metadata": {},
     "output_type": "execute_result"
    }
   ],
   "source": [
    "# example of clean comment\n",
    "train.comment_text[0]"
   ]
  },
  {
   "cell_type": "code",
   "execution_count": 16,
   "id": "c4a5c9a6-0a37-4136-a2d9-23c241688fb4",
   "metadata": {},
   "outputs": [
    {
     "data": {
      "text/plain": [
       "'Hey... what is it..\\n@ | talk .\\nWhat is it... an exclusive group of some WP TALIBANS...who are good at destroying, self-appointed purist who GANG UP any one who asks them questions abt their ANTI-SOCIAL and DESTRUCTIVE (non)-contribution at WP?\\n\\nAsk Sityush to clean up his behavior than issue me nonsensical warnings...'"
      ]
     },
     "execution_count": 16,
     "metadata": {},
     "output_type": "execute_result"
    }
   ],
   "source": [
    "# example of toxic comment\n",
    "train[train.toxic == 1].iloc[1, 1]\n"
   ]
  },
  {
   "cell_type": "code",
   "execution_count": 17,
   "id": "5068898a-84d9-4a1d-beb8-35f05e1005a2",
   "metadata": {},
   "outputs": [
    {
     "data": {
      "text/plain": [
       "<Axes: >"
      ]
     },
     "execution_count": 17,
     "metadata": {},
     "output_type": "execute_result"
    },
    {
     "data": {
      "image/png": "[encoded data removed]",
      "text/plain": [
       "<Figure size 1000x800 with 2 Axes>"
      ]
     },
     "metadata": {},
     "output_type": "display_data"
    }
   ],
   "source": [
    "# Cross correlation matrix across labels\n",
    "rowsums = train.iloc[:, 2:].sum(axis=1)\n",
    "temp = train.iloc[:, 2:-1]\n",
    "train_corr = temp[rowsums > 0]\n",
    "corr = train_corr.corr()\n",
    "plt.figure(figsize=(10, 8))\n",
    "sns.heatmap(corr,\n",
    "            xticklabels=corr.columns.values,\n",
    "            yticklabels=corr.columns.values, annot=True, cmap=\"Blues\")"
   ]
  },
  {
   "cell_type": "code",
   "execution_count": 18,
   "id": "1ef011ee-85ec-4ca4-8028-df4fe940075f",
   "metadata": {},
   "outputs": [],
   "source": [
    "#We can see that in the cross-correlation matrix, there is a high chance of obscene comments to be insulting."
   ]
  },
  {
   "cell_type": "markdown",
   "id": "005696c5-abe5-41ad-bd56-e863e131ccda",
   "metadata": {},
   "source": [
    "#Feature-engineering"
   ]
  },
  {
   "cell_type": "code",
   "execution_count": 20,
   "id": "03a90446-f0a3-4e47-9d5d-84f914ec4e5b",
   "metadata": {},
   "outputs": [],
   "source": [
    "#Data cleaning"
   ]
  },
  {
   "cell_type": "code",
   "execution_count": 21,
   "id": "75eb7265-a7d1-4fe4-a239-941efdbfef69",
   "metadata": {},
   "outputs": [],
   "source": [
    "test_labels = [\"toxic\", \"severe_toxic\", \"obscene\",\"threat\", \"insult\", \"identity_hate\"]"
   ]
  },
  {
   "cell_type": "code",
   "execution_count": 22,
   "id": "7baf8436-fc21-49c4-8af4-43ca5788700a",
   "metadata": {},
   "outputs": [],
   "source": [
    "'''\n",
    "    Tokenize text and return a non-unique list of tokenized words found in the text. \n",
    "    Normalize to lowercase, strip punctuation, remove stop words, filter non-ascii characters.\n",
    "    Lemmatize the words and lastly drop words of length < 3.\n",
    "    '''\n",
    "def tokenize(text):\n",
    "    text = text.lower()\n",
    "    regex = re.compile('[' + re.escape(string.punctuation) + '0-9\\\\r\\\\t\\\\n]')\n",
    "    nopunct = regex.sub(\" \", text)\n",
    "    words = nopunct.split(' ')\n",
    "    # remove any non ascii\n",
    "    words = [word.encode('ascii', 'ignore').decode('ascii') for word in words]\n",
    "    lmtzr = WordNetLemmatizer()\n",
    "    words = [lmtzr.lemmatize(w) for w in words]\n",
    "    words = [w for w in words if len(w) > 2]\n",
    "    return words"
   ]
  },
  {
   "cell_type": "code",
   "execution_count": 23,
   "id": "957da771-5e60-4bbf-b819-ac9908e67064",
   "metadata": {},
   "outputs": [],
   "source": [
    "vector = TfidfVectorizer(ngram_range=(1, 1), analyzer='word',\n",
    "                         tokenizer=tokenize, stop_words='english',\n",
    "                         strip_accents='unicode', use_idf=True, min_df=10)\n",
    "X_train = vector.fit_transform(train['comment_text'])\n",
    "X_test = vector.transform(test['comment_text'])"
   ]
  },
  {
   "cell_type": "markdown",
   "id": "56277101-b7b0-4afb-98e4-c900569dc6cb",
   "metadata": {},
   "source": [
    "#Modeling and Evaluation"
   ]
  },
  {
   "cell_type": "code",
   "execution_count": 25,
   "id": "cd884203-20fd-4f39-a23b-7d2ddab9310c",
   "metadata": {},
   "outputs": [],
   "source": [
    "# Creating classifiers with default parameters initially.\n",
    "clf1 = MultinomialNB()\n",
    "clf2 = LogisticRegression()\n",
    "clf3 = LinearSVC()"
   ]
  },
  {
   "cell_type": "code",
   "execution_count": 26,
   "id": "151bff52-7354-4b53-99a0-b0abeb3b9601",
   "metadata": {},
   "outputs": [],
   "source": [
    "#Iterate though each label and return the cross validation F1 and Recall score \n",
    "def cross_validation_score(classifier, X_train, y_train):\n",
    "    methods = []\n",
    "    name = classifier.__class__.__name__.split('.')[-1]\n",
    "\n",
    "    for label in test_labels:\n",
    "        recall = cross_val_score(\n",
    "            classifier, X_train, y_train[label], cv=10, scoring='recall')\n",
    "        f1 = cross_val_score(classifier, X_train,\n",
    "                             y_train[label], cv=10, scoring='f1')\n",
    "        methods.append([name, label, recall.mean(), f1.mean()])\n",
    "\n",
    "    return methods"
   ]
  },
  {
   "cell_type": "code",
   "execution_count": 56,
   "id": "d807e703-91ac-44ff-94e6-bf5fe21e332c",
   "metadata": {},
   "outputs": [
    {
     "name": "stdout",
     "output_type": "stream",
     "text": [
      "1\n",
      "1\n",
      "1\n"
     ]
    }
   ],
   "source": [
    "# Calculating the cross validation F1 and Recall score for our 3 baseline models.\n",
    "methods1_cv = pd.DataFrame(cross_validation_score(clf1, X_train, train))\n",
    "print(1)\n",
    "methods2_cv = pd.DataFrame(cross_validation_score(clf2, X_train, train))\n",
    "print(1)\n",
    "methods3_cv = pd.DataFrame(cross_validation_score(clf3, X_train, train))\n",
    "print(1)"
   ]
  },
  {
   "cell_type": "code",
   "execution_count": 57,
   "id": "9725d1bd-d4b4-4f34-83f3-5484665552e2",
   "metadata": {},
   "outputs": [
    {
     "data": {
      "text/html": [
       "<div>\n",
       "<style scoped>\n",
       "    .dataframe tbody tr th:only-of-type {\n",
       "        vertical-align: middle;\n",
       "    }\n",
       "\n",
       "    .dataframe tbody tr th {\n",
       "        vertical-align: top;\n",
       "    }\n",
       "\n",
       "    .dataframe thead th {\n",
       "        text-align: right;\n",
       "    }\n",
       "</style>\n",
       "<table border=\"1\" class=\"dataframe\">\n",
       "  <thead>\n",
       "    <tr style=\"text-align: right;\">\n",
       "      <th></th>\n",
       "      <th>Model</th>\n",
       "      <th>Label</th>\n",
       "      <th>Recall</th>\n",
       "      <th>F1</th>\n",
       "    </tr>\n",
       "  </thead>\n",
       "  <tbody>\n",
       "    <tr>\n",
       "      <th>0</th>\n",
       "      <td>MultinomialNB</td>\n",
       "      <td>toxic</td>\n",
       "      <td>0.482999</td>\n",
       "      <td>0.636562</td>\n",
       "    </tr>\n",
       "    <tr>\n",
       "      <th>1</th>\n",
       "      <td>MultinomialNB</td>\n",
       "      <td>severe_toxic</td>\n",
       "      <td>0.021938</td>\n",
       "      <td>0.042244</td>\n",
       "    </tr>\n",
       "    <tr>\n",
       "      <th>2</th>\n",
       "      <td>MultinomialNB</td>\n",
       "      <td>obscene</td>\n",
       "      <td>0.469167</td>\n",
       "      <td>0.622148</td>\n",
       "    </tr>\n",
       "    <tr>\n",
       "      <th>3</th>\n",
       "      <td>MultinomialNB</td>\n",
       "      <td>threat</td>\n",
       "      <td>0.000000</td>\n",
       "      <td>0.000000</td>\n",
       "    </tr>\n",
       "    <tr>\n",
       "      <th>4</th>\n",
       "      <td>MultinomialNB</td>\n",
       "      <td>insult</td>\n",
       "      <td>0.367020</td>\n",
       "      <td>0.511394</td>\n",
       "    </tr>\n",
       "    <tr>\n",
       "      <th>5</th>\n",
       "      <td>MultinomialNB</td>\n",
       "      <td>identity_hate</td>\n",
       "      <td>0.007832</td>\n",
       "      <td>0.015346</td>\n",
       "    </tr>\n",
       "    <tr>\n",
       "      <th>6</th>\n",
       "      <td>LogisticRegression</td>\n",
       "      <td>toxic</td>\n",
       "      <td>0.612528</td>\n",
       "      <td>0.732122</td>\n",
       "    </tr>\n",
       "    <tr>\n",
       "      <th>7</th>\n",
       "      <td>LogisticRegression</td>\n",
       "      <td>severe_toxic</td>\n",
       "      <td>0.255185</td>\n",
       "      <td>0.351210</td>\n",
       "    </tr>\n",
       "    <tr>\n",
       "      <th>8</th>\n",
       "      <td>LogisticRegression</td>\n",
       "      <td>obscene</td>\n",
       "      <td>0.638658</td>\n",
       "      <td>0.748026</td>\n",
       "    </tr>\n",
       "    <tr>\n",
       "      <th>9</th>\n",
       "      <td>LogisticRegression</td>\n",
       "      <td>threat</td>\n",
       "      <td>0.131605</td>\n",
       "      <td>0.218787</td>\n",
       "    </tr>\n",
       "    <tr>\n",
       "      <th>10</th>\n",
       "      <td>LogisticRegression</td>\n",
       "      <td>insult</td>\n",
       "      <td>0.523292</td>\n",
       "      <td>0.636648</td>\n",
       "    </tr>\n",
       "    <tr>\n",
       "      <th>11</th>\n",
       "      <td>LogisticRegression</td>\n",
       "      <td>identity_hate</td>\n",
       "      <td>0.212837</td>\n",
       "      <td>0.323868</td>\n",
       "    </tr>\n",
       "    <tr>\n",
       "      <th>12</th>\n",
       "      <td>LinearSVC</td>\n",
       "      <td>toxic</td>\n",
       "      <td>0.680659</td>\n",
       "      <td>0.759365</td>\n",
       "    </tr>\n",
       "    <tr>\n",
       "      <th>13</th>\n",
       "      <td>LinearSVC</td>\n",
       "      <td>severe_toxic</td>\n",
       "      <td>0.265825</td>\n",
       "      <td>0.353608</td>\n",
       "    </tr>\n",
       "    <tr>\n",
       "      <th>14</th>\n",
       "      <td>LinearSVC</td>\n",
       "      <td>obscene</td>\n",
       "      <td>0.695233</td>\n",
       "      <td>0.774031</td>\n",
       "    </tr>\n",
       "    <tr>\n",
       "      <th>15</th>\n",
       "      <td>LinearSVC</td>\n",
       "      <td>threat</td>\n",
       "      <td>0.219637</td>\n",
       "      <td>0.320988</td>\n",
       "    </tr>\n",
       "    <tr>\n",
       "      <th>16</th>\n",
       "      <td>LinearSVC</td>\n",
       "      <td>insult</td>\n",
       "      <td>0.576485</td>\n",
       "      <td>0.663236</td>\n",
       "    </tr>\n",
       "    <tr>\n",
       "      <th>17</th>\n",
       "      <td>LinearSVC</td>\n",
       "      <td>identity_hate</td>\n",
       "      <td>0.274752</td>\n",
       "      <td>0.383694</td>\n",
       "    </tr>\n",
       "  </tbody>\n",
       "</table>\n",
       "</div>"
      ],
      "text/plain": [
       "                 Model          Label    Recall        F1\n",
       "0        MultinomialNB          toxic  0.482999  0.636562\n",
       "1        MultinomialNB   severe_toxic  0.021938  0.042244\n",
       "2        MultinomialNB        obscene  0.469167  0.622148\n",
       "3        MultinomialNB         threat  0.000000  0.000000\n",
       "4        MultinomialNB         insult  0.367020  0.511394\n",
       "5        MultinomialNB  identity_hate  0.007832  0.015346\n",
       "6   LogisticRegression          toxic  0.612528  0.732122\n",
       "7   LogisticRegression   severe_toxic  0.255185  0.351210\n",
       "8   LogisticRegression        obscene  0.638658  0.748026\n",
       "9   LogisticRegression         threat  0.131605  0.218787\n",
       "10  LogisticRegression         insult  0.523292  0.636648\n",
       "11  LogisticRegression  identity_hate  0.212837  0.323868\n",
       "12           LinearSVC          toxic  0.680659  0.759365\n",
       "13           LinearSVC   severe_toxic  0.265825  0.353608\n",
       "14           LinearSVC        obscene  0.695233  0.774031\n",
       "15           LinearSVC         threat  0.219637  0.320988\n",
       "16           LinearSVC         insult  0.576485  0.663236\n",
       "17           LinearSVC  identity_hate  0.274752  0.383694"
      ]
     },
     "execution_count": 57,
     "metadata": {},
     "output_type": "execute_result"
    }
   ],
   "source": [
    "# Creating a dataframe to show summary of results.\n",
    "methods_cv = pd.concat([methods1_cv, methods2_cv, methods3_cv])\n",
    "methods_cv.columns = ['Model', 'Label', 'Recall', 'F1']\n",
    "meth_cv = methods_cv.reset_index()\n",
    "meth_cv[['Model', 'Label', 'Recall', 'F1']]"
   ]
  },
  {
   "cell_type": "code",
   "execution_count": null,
   "id": "d909534b-e951-4ec6-839d-16e3047bead6",
   "metadata": {},
   "outputs": [],
   "source": [
    "#Based on the cross validation above, we noticed that overall, the linear SVC model and Logistic Regression model perform better. \n",
    "#As a baseline model, Multinomial Naive Bayes does not perform well, especially for the threat label and identity_hate label because these two \n",
    "#labels have the least number of observations."
   ]
  },
  {
   "cell_type": "code",
   "execution_count": null,
   "id": "e3d607aa-6f0d-4514-a310-07a2660fe9dc",
   "metadata": {},
   "outputs": [],
   "source": [
    "#Now we want to see how these three models perform on the actual prediction - the test dataset."
   ]
  },
  {
   "cell_type": "code",
   "execution_count": 60,
   "id": "1631f926-9b27-4ea5-b346-62cf317ccd88",
   "metadata": {},
   "outputs": [],
   "source": [
    "#Calculate Hamming-loss, F1, Recall for each label on test dataset.\n",
    "\n",
    "def score(classifier, X_train, y_train, X_test, y_test):\n",
    "    methods = []\n",
    "    hloss = []\n",
    "    name = classifier.__class__.__name__.split('.')[-1]\n",
    "    predict_df = pd.DataFrame()\n",
    "    predict_df['id'] = test_y['id']\n",
    "\n",
    "    for label in test_labels:\n",
    "        classifier.fit(X_train, y_train[label])\n",
    "        predicted = classifier.predict(X_test)\n",
    "\n",
    "        predict_df[label] = predicted\n",
    "\n",
    "        recall = recall_score(y_test[y_test[label] != -1][label],\n",
    "                              predicted[y_test[label] != -1],\n",
    "                              average=\"weighted\")\n",
    "        f1 = f1_score(y_test[y_test[label] != -1][label],\n",
    "                      predicted[y_test[label] != -1],\n",
    "                      average=\"weighted\")\n",
    "\n",
    "        conf_mat = confusion_matrix(y_test[y_test[label] != -1][label],\n",
    "                                    predicted[y_test[label] != -1])\n",
    "\n",
    "        methods.append([name, label, recall, f1, conf_mat])\n",
    "\n",
    "    hamming_loss_score = hamming_loss(test_y[test_y['toxic'] != -1].iloc[:, 1:7],\n",
    "                                      predict_df[test_y['toxic'] != -1].iloc[:, 1:7])\n",
    "    hloss.append([name, hamming_loss_score])\n",
    "\n",
    "    return hloss, methods"
   ]
  },
  {
   "cell_type": "code",
   "execution_count": 62,
   "id": "bdcc204c-5dba-426c-b825-e3da7c27ae5a",
   "metadata": {},
   "outputs": [
    {
     "name": "stdout",
     "output_type": "stream",
     "text": [
      "1\n",
      "1\n",
      "1\n"
     ]
    }
   ],
   "source": [
    "# Calculating the Hamming-loss F1 and Recall score for our 3 baseline models.\n",
    "h1, methods1 = score(clf1, X_train, train, X_test, test_y)\n",
    "print(1)\n",
    "h2, methods2 = score(clf2, X_train, train, X_test, test_y)\n",
    "print(1)\n",
    "h3, methods3 = score(clf3, X_train, train, X_test, test_y)\n",
    "print(1)"
   ]
  },
  {
   "cell_type": "code",
   "execution_count": 64,
   "id": "15446b65-9336-46cb-8b23-d63993273852",
   "metadata": {},
   "outputs": [
    {
     "data": {
      "text/html": [
       "<div>\n",
       "<style scoped>\n",
       "    .dataframe tbody tr th:only-of-type {\n",
       "        vertical-align: middle;\n",
       "    }\n",
       "\n",
       "    .dataframe tbody tr th {\n",
       "        vertical-align: top;\n",
       "    }\n",
       "\n",
       "    .dataframe thead th {\n",
       "        text-align: right;\n",
       "    }\n",
       "</style>\n",
       "<table border=\"1\" class=\"dataframe\">\n",
       "  <thead>\n",
       "    <tr style=\"text-align: right;\">\n",
       "      <th></th>\n",
       "      <th>Model</th>\n",
       "      <th>Label</th>\n",
       "      <th>Recall</th>\n",
       "      <th>F1</th>\n",
       "    </tr>\n",
       "  </thead>\n",
       "  <tbody>\n",
       "    <tr>\n",
       "      <th>0</th>\n",
       "      <td>MultinomialNB</td>\n",
       "      <td>toxic</td>\n",
       "      <td>0.935196</td>\n",
       "      <td>0.930919</td>\n",
       "    </tr>\n",
       "    <tr>\n",
       "      <th>1</th>\n",
       "      <td>MultinomialNB</td>\n",
       "      <td>severe_toxic</td>\n",
       "      <td>0.994436</td>\n",
       "      <td>0.992145</td>\n",
       "    </tr>\n",
       "    <tr>\n",
       "      <th>2</th>\n",
       "      <td>MultinomialNB</td>\n",
       "      <td>obscene</td>\n",
       "      <td>0.962987</td>\n",
       "      <td>0.957902</td>\n",
       "    </tr>\n",
       "    <tr>\n",
       "      <th>3</th>\n",
       "      <td>MultinomialNB</td>\n",
       "      <td>threat</td>\n",
       "      <td>0.996702</td>\n",
       "      <td>0.995056</td>\n",
       "    </tr>\n",
       "    <tr>\n",
       "      <th>4</th>\n",
       "      <td>MultinomialNB</td>\n",
       "      <td>insult</td>\n",
       "      <td>0.960158</td>\n",
       "      <td>0.953453</td>\n",
       "    </tr>\n",
       "    <tr>\n",
       "      <th>5</th>\n",
       "      <td>MultinomialNB</td>\n",
       "      <td>identity_hate</td>\n",
       "      <td>0.988887</td>\n",
       "      <td>0.983408</td>\n",
       "    </tr>\n",
       "    <tr>\n",
       "      <th>6</th>\n",
       "      <td>LogisticRegression</td>\n",
       "      <td>toxic</td>\n",
       "      <td>0.934321</td>\n",
       "      <td>0.936142</td>\n",
       "    </tr>\n",
       "    <tr>\n",
       "      <th>7</th>\n",
       "      <td>LogisticRegression</td>\n",
       "      <td>severe_toxic</td>\n",
       "      <td>0.993154</td>\n",
       "      <td>0.992851</td>\n",
       "    </tr>\n",
       "    <tr>\n",
       "      <th>8</th>\n",
       "      <td>LogisticRegression</td>\n",
       "      <td>obscene</td>\n",
       "      <td>0.966066</td>\n",
       "      <td>0.964416</td>\n",
       "    </tr>\n",
       "    <tr>\n",
       "      <th>9</th>\n",
       "      <td>LogisticRegression</td>\n",
       "      <td>threat</td>\n",
       "      <td>0.996374</td>\n",
       "      <td>0.995736</td>\n",
       "    </tr>\n",
       "    <tr>\n",
       "      <th>10</th>\n",
       "      <td>LogisticRegression</td>\n",
       "      <td>insult</td>\n",
       "      <td>0.963644</td>\n",
       "      <td>0.961003</td>\n",
       "    </tr>\n",
       "    <tr>\n",
       "      <th>11</th>\n",
       "      <td>LogisticRegression</td>\n",
       "      <td>identity_hate</td>\n",
       "      <td>0.990419</td>\n",
       "      <td>0.988397</td>\n",
       "    </tr>\n",
       "    <tr>\n",
       "      <th>12</th>\n",
       "      <td>LinearSVC</td>\n",
       "      <td>toxic</td>\n",
       "      <td>0.925037</td>\n",
       "      <td>0.929860</td>\n",
       "    </tr>\n",
       "    <tr>\n",
       "      <th>13</th>\n",
       "      <td>LinearSVC</td>\n",
       "      <td>severe_toxic</td>\n",
       "      <td>0.992982</td>\n",
       "      <td>0.992775</td>\n",
       "    </tr>\n",
       "    <tr>\n",
       "      <th>14</th>\n",
       "      <td>LinearSVC</td>\n",
       "      <td>obscene</td>\n",
       "      <td>0.962815</td>\n",
       "      <td>0.962684</td>\n",
       "    </tr>\n",
       "    <tr>\n",
       "      <th>15</th>\n",
       "      <td>LinearSVC</td>\n",
       "      <td>threat</td>\n",
       "      <td>0.996374</td>\n",
       "      <td>0.995989</td>\n",
       "    </tr>\n",
       "    <tr>\n",
       "      <th>16</th>\n",
       "      <td>LinearSVC</td>\n",
       "      <td>insult</td>\n",
       "      <td>0.961440</td>\n",
       "      <td>0.959917</td>\n",
       "    </tr>\n",
       "    <tr>\n",
       "      <th>17</th>\n",
       "      <td>LinearSVC</td>\n",
       "      <td>identity_hate</td>\n",
       "      <td>0.990497</td>\n",
       "      <td>0.989008</td>\n",
       "    </tr>\n",
       "  </tbody>\n",
       "</table>\n",
       "</div>"
      ],
      "text/plain": [
       "                 Model          Label    Recall        F1\n",
       "0        MultinomialNB          toxic  0.935196  0.930919\n",
       "1        MultinomialNB   severe_toxic  0.994436  0.992145\n",
       "2        MultinomialNB        obscene  0.962987  0.957902\n",
       "3        MultinomialNB         threat  0.996702  0.995056\n",
       "4        MultinomialNB         insult  0.960158  0.953453\n",
       "5        MultinomialNB  identity_hate  0.988887  0.983408\n",
       "6   LogisticRegression          toxic  0.934321  0.936142\n",
       "7   LogisticRegression   severe_toxic  0.993154  0.992851\n",
       "8   LogisticRegression        obscene  0.966066  0.964416\n",
       "9   LogisticRegression         threat  0.996374  0.995736\n",
       "10  LogisticRegression         insult  0.963644  0.961003\n",
       "11  LogisticRegression  identity_hate  0.990419  0.988397\n",
       "12           LinearSVC          toxic  0.925037  0.929860\n",
       "13           LinearSVC   severe_toxic  0.992982  0.992775\n",
       "14           LinearSVC        obscene  0.962815  0.962684\n",
       "15           LinearSVC         threat  0.996374  0.995989\n",
       "16           LinearSVC         insult  0.961440  0.959917\n",
       "17           LinearSVC  identity_hate  0.990497  0.989008"
      ]
     },
     "execution_count": 64,
     "metadata": {},
     "output_type": "execute_result"
    }
   ],
   "source": [
    "# Creating a dataframe to show summary of results.\n",
    "methods1 = pd.DataFrame(methods1)\n",
    "methods2 = pd.DataFrame(methods2)\n",
    "methods3 = pd.DataFrame(methods3)\n",
    "methods = pd.concat([methods1, methods2, methods3])\n",
    "methods.columns = ['Model', 'Label', 'Recall', 'F1', 'Confusion_Matrix']\n",
    "meth = methods.reset_index()\n",
    "meth[['Model', 'Label', 'Recall', 'F1']]"
   ]
  },
  {
   "cell_type": "code",
   "execution_count": 66,
   "id": "6083a0ce-1a6f-4fc2-b32d-37624cce29ab",
   "metadata": {},
   "outputs": [
    {
     "data": {
      "image/png": "[encoded data removed]",
      "text/plain": [
       "<Figure size 640x480 with 1 Axes>"
      ]
     },
     "metadata": {},
     "output_type": "display_data"
    }
   ],
   "source": [
    "# Visualizing F1 score results through box-plot.\n",
    "ax = sns.boxplot(x='Model', y='F1', data=methods, palette=\"Blues\")\n",
    "sns.stripplot(x='Model', y='F1', data=methods,\n",
    "              size=8, jitter=True, edgecolor=\"gray\", linewidth=2, palette=\"Blues\")\n",
    "ax.set_xticklabels(ax.get_xticklabels(), rotation=20)\n",
    "\n",
    "plt.show()"
   ]
  },
  {
   "cell_type": "code",
   "execution_count": null,
   "id": "c5f529c5-0120-469c-b0e0-7992234ee541",
   "metadata": {},
   "outputs": [],
   "source": [
    "#Above are the result table and plot showing a comparison between these different models after training them and see how these models perform \n",
    "#on the test data.\n",
    "\n",
    "#Notice that Muninomial Naive Bayes does not perform as well as the other two models while Linear SVC in general out performs \n",
    "#the others based on F1 score."
   ]
  },
  {
   "cell_type": "code",
   "execution_count": null,
   "id": "9e95315f-5c76-4738-bee1-707770083492",
   "metadata": {},
   "outputs": [],
   "source": [
    "#Matrix Visualisation"
   ]
  },
  {
   "cell_type": "code",
   "execution_count": 68,
   "id": "2abb814b-0918-4743-bdbd-67a43def31f0",
   "metadata": {},
   "outputs": [],
   "source": [
    "def drawConfusionMatrix(cm):\n",
    "    \"\"\"\n",
    "    Plot Confusion matrix of input cm.\n",
    "    \"\"\"\n",
    "    cm = cm.astype('float')/cm.sum(axis=1)[:, np.newaxis]\n",
    "    ax = plt.axes()\n",
    "    sns.heatmap(cm,\n",
    "                annot=True,\n",
    "                annot_kws={\"size\": 16},\n",
    "                cmap=\"Blues\",\n",
    "                fmt='.2f',\n",
    "                linewidths=2,\n",
    "                linecolor='steelblue',\n",
    "                xticklabels=(\"Non-toxic\", \"Toxic\"),\n",
    "                yticklabels=(\"Non-toxic\", \"Toxic\"))\n",
    "\n",
    "    plt.ylabel('True', fontsize=18)\n",
    "    plt.xlabel('Predicted', fontsize=18)\n",
    "    plt.show()\n"
   ]
  },
  {
   "cell_type": "code",
   "execution_count": 70,
   "id": "e8a25877-abe8-4fa5-b04f-bb02a61a33cb",
   "metadata": {},
   "outputs": [],
   "source": [
    "def Matrix(label):\n",
    "    \"\"\"\n",
    "    Plot Confusion matrix for each label and call function drawConfusionMatrix().\n",
    "    \"\"\"\n",
    "    print(f\"*************** {label} labelling ***************\")\n",
    "    labels = {\"toxic\": 0, \"severe_toxic\": 1, \"obscene\": 2,\n",
    "              \"threat\": 3, \"insult\": 4, \"identity_hate\": 5}\n",
    "\n",
    "    pos = labels[label]\n",
    "    for i in range(pos, len(meth), 6):\n",
    "        print()\n",
    "        print(f\"****  {meth['Model'][i]}  ***\")\n",
    "        cm = meth['Confusion_Matrix'][i]\n",
    "        drawConfusionMatrix(cm)"
   ]
  },
  {
   "cell_type": "code",
   "execution_count": null,
   "id": "d28f8a5e-8f74-40ed-b1e2-a874fd736365",
   "metadata": {},
   "outputs": [],
   "source": [
    "\"\"\"Below shows the confusion matrix for label toxic. Notice that all models predict Non-toxic labels pretty well because most of our data are non-toxic. However, Multinomial NB tends to predict more toxic comments to non-toxic while Linear SVC is doing a great job in classifying toxic comments.\"\"\""
   ]
  },
  {
   "cell_type": "code",
   "execution_count": null,
   "id": "76508c01-3728-49a1-b25a-2025353e11dd",
   "metadata": {},
   "outputs": [],
   "source": [
    "token = input('Choose a class for the Confusion Matrix: ')\n",
    "Matrix(token.lower())"
   ]
  },
  {
   "cell_type": "code",
   "execution_count": null,
   "id": "b2831945-4c20-42f6-ae5e-6220c3daf701",
   "metadata": {},
   "outputs": [],
   "source": [
    "\"\"\"Based on the above comparison, we could say that for these three models with default settings, LinearSVC performs better than anyone for 'toxic' label .\"\"\""
   ]
  },
  {
   "cell_type": "code",
   "execution_count": null,
   "id": "c1f2137c-f83f-4712-be1d-c3e3908c34cb",
   "metadata": {},
   "outputs": [],
   "source": [
    "#Aggregated Hamming Loss Score"
   ]
  },
  {
   "cell_type": "code",
   "execution_count": null,
   "id": "7f5f29bd-707b-48ab-a208-021f0fee62a1",
   "metadata": {},
   "outputs": [],
   "source": [
    "# Creating a dataframe to summarize Hamming-loss\n",
    "hl1_df = pd.DataFrame(h1)\n",
    "hl2_df = pd.DataFrame(h2)\n",
    "hl3_df = pd.DataFrame(h3)"
   ]
  },
  {
   "cell_type": "code",
   "execution_count": null,
   "id": "a70551a6-88fb-4f09-bd12-086319ddc54c",
   "metadata": {},
   "outputs": [],
   "source": [
    "hammingloss = pd.concat([hl1_df, hl2_df, hl3_df])\n",
    "hammingloss.columns = ['Model', 'Hamming_Loss']\n",
    "hl = hammingloss.reset_index()\n",
    "hl[['Model', 'Hamming_Loss']]"
   ]
  },
  {
   "cell_type": "code",
   "execution_count": null,
   "id": "e8259fae-97af-4f88-be6c-8b21aab113e9",
   "metadata": {},
   "outputs": [],
   "source": [
    "#Across all models , Logistic Regression is doing a great job overall since it has the lowest percentage of incorrect labels."
   ]
  },
  {
   "cell_type": "code",
   "execution_count": null,
   "id": "1c273891-1404-4d1d-8341-0ec2345934f7",
   "metadata": {},
   "outputs": [],
   "source": [
    "\"\"\"So far we have only compared models without any hyperparameter tuning. Let's clean the code with pipeline and use some manually chosen hyperparameters to check how each model behaves. Since the greatest concern now is the imbalanced data, we decide to manually adjust class_weight for the models to see if we can achieve better results.\n",
    "\n",
    "Since Logistic Regression and Linear SVM are performing better, we will focus on these two models. For display purpose, we will only include average F1 score, Recall, and Hamming Loss for comparison.\"\"\""
   ]
  },
  {
   "cell_type": "code",
   "execution_count": null,
   "id": "73d1f696-957e-476c-96c1-bbc353cf27b1",
   "metadata": {},
   "outputs": [],
   "source": [
    "pipe_lr = Pipeline([\n",
    "    ('lr', LogisticRegression(class_weight=\"balanced\"))\n",
    "])\n",
    "\n",
    "pipe_linear_svm = Pipeline([\n",
    "    ('svm', LinearSVC(class_weight={1: 20}))\n",
    "])\n",
    "\n",
    "pipelines = [pipe_lr, pipe_linear_svm]"
   ]
  },
  {
   "cell_type": "code",
   "execution_count": null,
   "id": "b76e65bb-5fdc-4268-b808-4ad02dca7527",
   "metadata": {},
   "outputs": [],
   "source": [
    "score_df = []\n",
    "for pipe in pipelines:\n",
    "    f1_values = []\n",
    "    recall_values = []\n",
    "    hl = []\n",
    "    training_time = []\n",
    "    predict_df = pd.DataFrame()\n",
    "    predict_df['id'] = test_y['id']\n",
    "    for label in test_labels:\n",
    "        start = timer()\n",
    "        pipe.fit(X_train, train[label])\n",
    "        train_time = timer() - start\n",
    "        predicted = pipe.predict(X_test)\n",
    "        predict_df[label] = predicted\n",
    "\n",
    "        f1_values.append(f1_score(\n",
    "            test_y[test_y[label] != -1][label], predicted[test_y[label] != -1], average=\"weighted\"))\n",
    "        recall_values.append(recall_score(\n",
    "            test_y[test_y[label] != -1][label], predicted[test_y[label] != -1], average=\"weighted\"))\n",
    "        training_time.append(train_time)\n",
    "        name = pipe.steps[-1][1].__class__.__name__.split('.')[-1]\n",
    "\n",
    "    hamming_loss_score = hamming_loss(\n",
    "        test_y[test_y['toxic'] != -1].iloc[:, 1:7], predict_df[test_y['toxic'] != -1].iloc[:, 1:7])\n",
    "\n",
    "    val = [name, mean(f1_values), mean(recall_values),\n",
    "           hamming_loss_score, mean(training_time)]\n",
    "    score_df.append(val)"
   ]
  },
  {
   "cell_type": "code",
   "execution_count": null,
   "id": "ad655f06-b6eb-4922-ab58-cef03a94b531",
   "metadata": {},
   "outputs": [],
   "source": [
    "scores = pd.DataFrame(score_df,)\n",
    "scores.columns = ['Model', 'F1', 'Recall', 'Hamming_Loss', 'Training_Time']\n",
    "scores"
   ]
  },
  {
   "cell_type": "code",
   "execution_count": null,
   "id": "4c485096-1d71-4f96-8c1a-82d60b65a1d4",
   "metadata": {},
   "outputs": [],
   "source": [
    "\"\"\"Hyperparameter Tuning with Grid Search\n",
    "Now we decide to do grid search to seek for the \"optimal\" hyperparameters for the basic models that we've chose. Later we will make comparison based on the best model from each algorithm, since we have 6 different lables, tuning models for each label would be time expensive, so we will use the most common label \"Toxic\" to tune hyperparameters.\"\"\""
   ]
  },
  {
   "cell_type": "code",
   "execution_count": null,
   "id": "3c46ef23-4580-4312-83c4-dce2dc82b022",
   "metadata": {},
   "outputs": [],
   "source": [
    "#Logistic Regression Tuning"
   ]
  },
  {
   "cell_type": "code",
   "execution_count": null,
   "id": "b13be678-4d3c-4eef-9e9f-2ac3fb325411",
   "metadata": {},
   "outputs": [],
   "source": [
    "logistic_regression_classifier = LogisticRegression()\n",
    "\n",
    "parameter_grid = {'solver': ['newton-cg', 'lbfgs', 'liblinear'],\n",
    "                  'class_weight': [None, 'balanced']}\n",
    "\n",
    "cross_validation = StratifiedKFold(n_splits=5)\n",
    "\n",
    "grid_search = GridSearchCV(logistic_regression_classifier,\n",
    "                           param_grid=parameter_grid,\n",
    "                           cv=cross_validation,\n",
    "                           scoring='f1')\n",
    "\n",
    "grid_search.fit(X_train, train['toxic'])\n",
    "\n",
    "print('Best parameters: {}'.format(grid_search.best_params_))\n",
    "\n",
    "grid_search.best_estimator_"
   ]
  },
  {
   "cell_type": "code",
   "execution_count": null,
   "id": "9bd0a8cb-35a4-4c93-bf4c-aeed003e61d1",
   "metadata": {},
   "outputs": [],
   "source": [
    "#SVM Classifier Tuning"
   ]
  },
  {
   "cell_type": "code",
   "execution_count": null,
   "id": "833afdeb-f3fa-49f1-a1f3-c31d7bba2096",
   "metadata": {},
   "outputs": [],
   "source": [
    "svm_classifier = LinearSVC()\n",
    "\n",
    "parameter_grid = {'class_weight': [None, 'balanced'],\n",
    "                  'C': [1, 5, 10]}\n",
    "\n",
    "cross_validation = StratifiedKFold(n_splits=5)\n",
    "\n",
    "grid_search = GridSearchCV(svm_classifier,\n",
    "                           param_grid=parameter_grid,\n",
    "                           cv=cross_validation,\n",
    "                           scoring='f1')\n",
    "\n",
    "grid_search.fit(X_train, train['toxic'])\n",
    "\n",
    "print('Best parameters: {}'.format(grid_search.best_params_))\n",
    "\n",
    "grid_search.best_estimator_"
   ]
  },
  {
   "cell_type": "code",
   "execution_count": null,
   "id": "ae3477cd-fdc7-4487-8e57-32b335cb03ae",
   "metadata": {},
   "outputs": [],
   "source": [
    "#Model Selection"
   ]
  },
  {
   "cell_type": "code",
   "execution_count": null,
   "id": "631b5c62-56ac-425d-9b89-a2ad619809a4",
   "metadata": {},
   "outputs": [],
   "source": [
    "\"\"\"We will then compare these two models based on their tunned hyperparameters, we will also include training time as one of the metric when we compare models.\"\"\""
   ]
  },
  {
   "cell_type": "code",
   "execution_count": null,
   "id": "68479e13-8bb6-45a3-9e29-fdcf865e4c7a",
   "metadata": {},
   "outputs": [],
   "source": [
    "svm_clf = LinearSVC(C=1, class_weight=None, dual=True, fit_intercept=True,\n",
    "                    intercept_scaling=1, loss='squared_hinge', max_iter=1000,\n",
    "                    multi_class='ovr', penalty='l2', random_state=None, tol=0.0001,\n",
    "                    verbose=0)\n",
    "\n",
    "lr_clf = lr_clf = LogisticRegression(C=1.0, class_weight=None, dual=False, fit_intercept=True,\n",
    "                                     intercept_scaling=1, max_iter=100, multi_class='warn',\n",
    "                                     n_jobs=None, penalty='l2', random_state=None, solver='lbfgs',\n",
    "                                     tol=0.0001, verbose=0, warm_start=False)\n",
    "\n",
    "tunned_model_score_df = []\n",
    "for model in [svm_clf, lr_clf]:\n",
    "    f1_values = []\n",
    "    recall_values = []\n",
    "    hl = []\n",
    "    training_time = []\n",
    "    predict_df = pd.DataFrame()\n",
    "    predict_df['id'] = test_y['id']\n",
    "\n",
    "    for label in test_labels:\n",
    "        start = timer()\n",
    "        model.fit(X_train, train[label])\n",
    "        training_time.append(timer() - start)\n",
    "        predicted = model.predict(X_test)\n",
    "        predict_df[label] = predicted\n",
    "\n",
    "        f1_values.append(f1_score(test_y[test_y[label] != -1][label],\n",
    "                                  predicted[test_y[label] != -1],\n",
    "                                  average=\"weighted\"))\n",
    "        recall_values.append(recall_score(test_y[test_y[label] != -1][label],\n",
    "                                          predicted[test_y[label] != -1],\n",
    "                                          average=\"weighted\"))\n",
    "        name = model.__class__.__name__\n",
    "\n",
    "    hamming_loss_score = hamming_loss(test_y[test_y['toxic'] != -1].iloc[:, 1:7],\n",
    "                                      predict_df[test_y['toxic'] != -1].iloc[:, 1:7])\n",
    "\n",
    "    val = [name, mean(f1_values), mean(recall_values),\n",
    "           hamming_loss_score, sum(training_time)]\n",
    "\n",
    "    tunned_model_score_df.append(val)"
   ]
  },
  {
   "cell_type": "code",
   "execution_count": null,
   "id": "2dfa8a70-9aa7-40e4-b340-6afa7370d821",
   "metadata": {},
   "outputs": [],
   "source": [
    "tunned_scores = pd.DataFrame(tunned_model_score_df,)\n",
    "tunned_scores.columns = ['Model', 'F1',\n",
    "                         'Recall', 'Hamming_Loss', 'Traing_Time']\n",
    "tunned_scores"
   ]
  },
  {
   "cell_type": "code",
   "execution_count": null,
   "id": "8976161d-c71b-4c2d-98b9-ac7f8e711d01",
   "metadata": {},
   "outputs": [],
   "source": [
    "#Here we can say that LogisticRegression performs the best."
   ]
  },
  {
   "cell_type": "code",
   "execution_count": null,
   "id": "023cf50d-e5b7-486f-83cd-e6e3fed832e8",
   "metadata": {},
   "outputs": [],
   "source": []
  },
  {
   "cell_type": "code",
   "execution_count": null,
   "id": "a6a2f1ef-a8fc-4521-91e9-00de909bb6b8",
   "metadata": {},
   "outputs": [],
   "source": []
  }
 ],
 "metadata": {
  "kernelspec": {
   "display_name": "Python 3 (ipykernel)",
   "language": "python",
   "name": "python3"
  },
  "language_info": {
   "codemirror_mode": {
    "name": "ipython",
    "version": 3
   },
   "file_extension": ".py",
   "mimetype": "text/x-python",
   "name": "python",
   "nbconvert_exporter": "python",
   "pygments_lexer": "ipython3",
   "version": "3.12.4"
  }
 },
 "nbformat": 4,
 "nbformat_minor": 5
}

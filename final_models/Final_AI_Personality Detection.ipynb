{
 "cells": [
  {
   "cell_type": "code",
   "execution_count": 1,
   "id": "8f5794c0-cda0-4c46-b0a7-43d3d1c66754",
   "metadata": {},
   "outputs": [],
   "source": [
    "#Random forest is used for this"
   ]
  },
  {
   "cell_type": "code",
   "execution_count": 2,
   "id": "5a42c4d4-c576-488c-bf1e-2597a4a20ebb",
   "metadata": {},
   "outputs": [],
   "source": [
    "import re\n",
    "import numpy as np\n",
    "import pandas as pd\n",
    "from nltk.stem.porter import PorterStemmer \n",
    "from nltk.tokenize import word_tokenize\n",
    "from nltk.corpus import stopwords"
   ]
  },
  {
   "cell_type": "code",
   "execution_count": 16,
   "id": "bb0613e5-df91-44de-8f4d-e680b67a42bf",
   "metadata": {},
   "outputs": [],
   "source": [
    "from sklearn.ensemble import RandomForestClassifier\n",
    "from sklearn.model_selection import train_test_split\n",
    "from sklearn.neighbors import KNeighborsClassifier\n",
    "from sklearn.multioutput import MultiOutputClassifier"
   ]
  },
  {
   "cell_type": "code",
   "execution_count": 4,
   "id": "d92e1600-e5ae-4435-939d-bbfac047f786",
   "metadata": {},
   "outputs": [],
   "source": [
    "stemmer=PorterStemmer()\n",
    "df = pd.read_csv(r\"C:\\Users\\karun\\Downloads\\Data Set and Images used\\Data Set and Images used\\Personality.csv\")"
   ]
  },
  {
   "cell_type": "code",
   "execution_count": 5,
   "id": "3c3f58d7-6196-4e08-81be-745c142b28df",
   "metadata": {},
   "outputs": [
    {
     "name": "stdout",
     "output_type": "stream",
     "text": [
      "   type                                              posts\n",
      "0  INFJ  'http://www.youtube.com/watch?v=qsXHcwe3krw|||...\n",
      "1  ENTP  'I'm finding the lack of me in these posts ver...\n",
      "2  INTP  'Good one  _____   https://www.youtube.com/wat...\n",
      "3  INTJ  'Dear INTP,   I enjoyed our conversation the o...\n",
      "4  ENTJ  'You're fired.|||That's another silly misconce...\n",
      "5  INTJ  '18/37 @.@|||Science  is not perfect. No scien...\n",
      "6  INFJ  'No, I can't draw on my own nails (haha). Thos...\n",
      "7  INTJ  'I tend to build up a collection of things on ...\n",
      "8  INFJ  I'm not sure, that's a good question. The dist...\n",
      "9  INTP  'https://www.youtube.com/watch?v=w8-egj0y8Qs||...\n"
     ]
    }
   ],
   "source": [
    "print(df.head(10))"
   ]
  },
  {
   "cell_type": "code",
   "execution_count": 6,
   "id": "a027f8d0-08f7-459d-883a-cc313c3e60e2",
   "metadata": {},
   "outputs": [
    {
     "name": "stdout",
     "output_type": "stream",
     "text": [
      "<class 'pandas.core.frame.DataFrame'>\n",
      "RangeIndex: 8675 entries, 0 to 8674\n",
      "Data columns (total 2 columns):\n",
      " #   Column  Non-Null Count  Dtype \n",
      "---  ------  --------------  ----- \n",
      " 0   type    8675 non-null   object\n",
      " 1   posts   8675 non-null   object\n",
      "dtypes: object(2)\n",
      "memory usage: 135.7+ KB\n",
      "None\n"
     ]
    }
   ],
   "source": [
    "print(df.info())"
   ]
  },
  {
   "cell_type": "code",
   "execution_count": null,
   "id": "ff966e72-a61d-4dbd-a083-94c5a3c01f73",
   "metadata": {},
   "outputs": [],
   "source": []
  },
  {
   "cell_type": "code",
   "execution_count": 7,
   "id": "a2594b1d-d850-4772-ba8b-140172c2310a",
   "metadata": {},
   "outputs": [],
   "source": [
    "#Data Processing"
   ]
  },
  {
   "cell_type": "code",
   "execution_count": 8,
   "id": "e3b6ae48-577b-4de7-b223-b41a13bf3f85",
   "metadata": {},
   "outputs": [],
   "source": [
    "\n",
    "def cleanText(text):\n",
    "    text = re.sub(r'https?://(?:www\\.)?(?:youtube|youtu|youtube-nocookie)\\.com(?:[^\\s]+)', '', text)\n",
    "    text = re.sub(r'http\\S+', '', text) \n",
    "    text = text.replace(\"|||\", \" \")\n",
    "    text = text.lower()\n",
    "    text = re.sub(r\"http\\S+\", \"\", text, flags=re.MULTILINE)\n",
    "    tokens = word_tokenize(text)\n",
    "    stop_words = set(stopwords.words('english'))\n",
    "    tokens = [word for word in tokens if word not in stop_words]\n",
    "    \n",
    "    text = ' '.join(tokens)\n",
    "\n",
    "    return text"
   ]
  },
  {
   "cell_type": "code",
   "execution_count": 9,
   "id": "a5ec2a37-504e-45ed-9169-ac4e56807649",
   "metadata": {},
   "outputs": [
    {
     "data": {
      "text/html": [
       "<div>\n",
       "<style scoped>\n",
       "    .dataframe tbody tr th:only-of-type {\n",
       "        vertical-align: middle;\n",
       "    }\n",
       "\n",
       "    .dataframe tbody tr th {\n",
       "        vertical-align: top;\n",
       "    }\n",
       "\n",
       "    .dataframe thead th {\n",
       "        text-align: right;\n",
       "    }\n",
       "</style>\n",
       "<table border=\"1\" class=\"dataframe\">\n",
       "  <thead>\n",
       "    <tr style=\"text-align: right;\">\n",
       "      <th></th>\n",
       "      <th>type</th>\n",
       "      <th>posts</th>\n",
       "    </tr>\n",
       "  </thead>\n",
       "  <tbody>\n",
       "    <tr>\n",
       "      <th>0</th>\n",
       "      <td>INFJ</td>\n",
       "      <td>' intj moments sportscenter top ten plays pran...</td>\n",
       "    </tr>\n",
       "    <tr>\n",
       "      <th>1</th>\n",
       "      <td>ENTP</td>\n",
       "      <td>' 'm finding lack posts alarming . sex boring ...</td>\n",
       "    </tr>\n",
       "    <tr>\n",
       "      <th>2</th>\n",
       "      <td>INTP</td>\n",
       "      <td>'good one _____ course , say know ; 's blessin...</td>\n",
       "    </tr>\n",
       "    <tr>\n",
       "      <th>3</th>\n",
       "      <td>INTJ</td>\n",
       "      <td>'dear intp , enjoyed conversation day . esoter...</td>\n",
       "    </tr>\n",
       "    <tr>\n",
       "      <th>4</th>\n",
       "      <td>ENTJ</td>\n",
       "      <td>'you 're fired . 's another silly misconceptio...</td>\n",
       "    </tr>\n",
       "  </tbody>\n",
       "</table>\n",
       "</div>"
      ],
      "text/plain": [
       "   type                                              posts\n",
       "0  INFJ  ' intj moments sportscenter top ten plays pran...\n",
       "1  ENTP  ' 'm finding lack posts alarming . sex boring ...\n",
       "2  INTP  'good one _____ course , say know ; 's blessin...\n",
       "3  INTJ  'dear intp , enjoyed conversation day . esoter...\n",
       "4  ENTJ  'you 're fired . 's another silly misconceptio..."
      ]
     },
     "execution_count": 9,
     "metadata": {},
     "output_type": "execute_result"
    }
   ],
   "source": [
    "df['posts'] = df['posts'].apply(cleanText)\n",
    "df.head()"
   ]
  },
  {
   "cell_type": "code",
   "execution_count": 10,
   "id": "082906ce-e160-43b1-9ba0-da6f717e206c",
   "metadata": {},
   "outputs": [],
   "source": [
    "#Dividing the 16 personalities into 4 major groups for ease\n",
    "map1 = {\"I\": 0, \"E\": 1}\n",
    "map2 = {\"N\": 0, \"S\": 1}\n",
    "map3 = {\"T\": 0, \"F\": 1}\n",
    "map4 = {\"J\": 0, \"P\": 1}\n",
    "df['I-E'] = df['type'].astype(str).str[0]\n",
    "df['I-E'] = df['I-E'].map(map1)\n",
    "df['N-S'] = df['type'].astype(str).str[1]\n",
    "df['N-S'] = df['N-S'].map(map2)\n",
    "df['T-F'] = df['type'].astype(str).str[2]\n",
    "df['T-F'] = df['T-F'].map(map3)\n",
    "df['J-P'] = df['type'].astype(str).str[3]\n",
    "df['J-P'] = df['J-P'].map(map4)\n"
   ]
  },
  {
   "cell_type": "code",
   "execution_count": 11,
   "id": "1694fab9-4ba2-44c4-a4de-8f965684b17f",
   "metadata": {},
   "outputs": [],
   "source": [
    "df['http_per_comment'] = df['posts'].apply(lambda x: x.count('http')/50)\n",
    "df['music_per_comment'] = df['posts'].apply(lambda x: x.count('music')/50)\n",
    "df['question_per_comment'] = df['posts'].apply(lambda x: x.count('?')/50)\n",
    "df['img_per_comment'] = df['posts'].apply(lambda x: x.count('jpg')/50)\n",
    "df['excl_per_comment'] = df['posts'].apply(lambda x: x.count('!')/50)\n",
    "df['ellipsis_per_comment'] = df['posts'].apply(lambda x: x.count('...')/50)"
   ]
  },
  {
   "cell_type": "code",
   "execution_count": 12,
   "id": "bb18db85-1e87-49dc-b5b6-598fce97ddd0",
   "metadata": {},
   "outputs": [],
   "source": [
    "#Building ML on 'type' column \n",
    "X = df.drop(['type', 'posts', 'I-E', 'N-S', 'T-F', 'J-P'], axis=1).values\n",
    "y = df[['I-E', 'N-S', 'T-F', 'J-P']].values\n"
   ]
  },
  {
   "cell_type": "code",
   "execution_count": 13,
   "id": "d87b5a6a-0d12-491c-931f-396bfc33ed9c",
   "metadata": {},
   "outputs": [
    {
     "name": "stdout",
     "output_type": "stream",
     "text": [
      "(8675, 4)\n",
      "(8675, 6)\n"
     ]
    }
   ],
   "source": [
    "print(y.shape)\n",
    "print(X.shape)"
   ]
  },
  {
   "cell_type": "code",
   "execution_count": 14,
   "id": "65dc81fd-6882-42d1-b3f1-c08257912fe9",
   "metadata": {},
   "outputs": [],
   "source": [
    "X_train, X_test, y_train, y_test = train_test_split(X, y, test_size=0.3, random_state=5)"
   ]
  },
  {
   "cell_type": "code",
   "execution_count": 24,
   "id": "6db00bd2-803c-438b-94ba-cb2125fc5734",
   "metadata": {},
   "outputs": [
    {
     "name": "stdout",
     "output_type": "stream",
     "text": [
      "Random Forest Predictions Model: 89.56 %\n"
     ]
    }
   ],
   "source": [
    "model = MultiOutputClassifier(RandomForestClassifier(n_estimators=100))\n",
    "model.fit(X_train, y_train)\n",
    "\n",
    "model.score(X_train, y_train)\n",
    "print(\"Random Forest Predictions Model:\", round(model.score(X_train, y_train)*100,2),\"%\")\n",
    "#print(\"Random Forest Predictions Model\",round(acc_random_forestt,2,), \"%\")"
   ]
  },
  {
   "cell_type": "code",
   "execution_count": null,
   "id": "5d93a71d-f0ac-4dbf-9f84-ad80da6136f8",
   "metadata": {},
   "outputs": [],
   "source": []
  }
 ],
 "metadata": {
  "kernelspec": {
   "display_name": "Python 3 (ipykernel)",
   "language": "python",
   "name": "python3"
  },
  "language_info": {
   "codemirror_mode": {
    "name": "ipython",
    "version": 3
   },
   "file_extension": ".py",
   "mimetype": "text/x-python",
   "name": "python",
   "nbconvert_exporter": "python",
   "pygments_lexer": "ipython3",
   "version": "3.12.4"
  }
 },
 "nbformat": 4,
 "nbformat_minor": 5
}

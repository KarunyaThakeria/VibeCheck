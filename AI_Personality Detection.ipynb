{
 "cells": [
  {
   "cell_type": "code",
   "execution_count": 1,
   "id": "5a42c4d4-c576-488c-bf1e-2597a4a20ebb",
   "metadata": {},
   "outputs": [],
   "source": [
    "import re\n",
    "import numpy as np\n",
    "import pandas as pd\n",
    "import matplotlib.pyplot as plt\n",
    "import seaborn as sns\n",
    "from sklearn.linear_model import LogisticRegression\n",
    "from nltk.stem.porter import PorterStemmer \n",
    "from nltk.tokenize import word_tokenize\n",
    "from nltk.corpus import stopwords"
   ]
  },
  {
   "cell_type": "code",
   "execution_count": 2,
   "id": "bb0613e5-df91-44de-8f4d-e680b67a42bf",
   "metadata": {},
   "outputs": [],
   "source": [
    "from bokeh.io import output_file, show\n",
    "from sklearn.linear_model import LogisticRegression\n",
    "from sklearn.ensemble import RandomForestClassifier\n",
    "from sklearn.model_selection import train_test_split\n",
    "from sklearn.neighbors import KNeighborsClassifier\n",
    "from sklearn.linear_model import LinearRegression\n",
    "from sklearn.model_selection import cross_val_score\n",
    "from sklearn.metrics import accuracy_score\n",
    "from sklearn.preprocessing import MinMaxScaler\n",
    "from sklearn.multiclass import OneVsRestClassifier\n",
    "from sklearn.linear_model import LogisticRegression\n",
    "from sklearn.ensemble import RandomForestClassifier"
   ]
  },
  {
   "cell_type": "code",
   "execution_count": 3,
   "id": "d92e1600-e5ae-4435-939d-bbfac047f786",
   "metadata": {},
   "outputs": [],
   "source": [
    "stemmer=PorterStemmer()\n",
    "df = pd.read_csv(r\"C:\\Users\\karun\\Downloads\\Data Set and Images used\\Data Set and Images used\\Personality.csv\")"
   ]
  },
  {
   "cell_type": "code",
   "execution_count": 4,
   "id": "3c3f58d7-6196-4e08-81be-745c142b28df",
   "metadata": {},
   "outputs": [
    {
     "name": "stdout",
     "output_type": "stream",
     "text": [
      "   type                                              posts\n",
      "0  INFJ  'http://www.youtube.com/watch?v=qsXHcwe3krw|||...\n",
      "1  ENTP  'I'm finding the lack of me in these posts ver...\n",
      "2  INTP  'Good one  _____   https://www.youtube.com/wat...\n",
      "3  INTJ  'Dear INTP,   I enjoyed our conversation the o...\n",
      "4  ENTJ  'You're fired.|||That's another silly misconce...\n",
      "5  INTJ  '18/37 @.@|||Science  is not perfect. No scien...\n",
      "6  INFJ  'No, I can't draw on my own nails (haha). Thos...\n",
      "7  INTJ  'I tend to build up a collection of things on ...\n",
      "8  INFJ  I'm not sure, that's a good question. The dist...\n",
      "9  INTP  'https://www.youtube.com/watch?v=w8-egj0y8Qs||...\n"
     ]
    }
   ],
   "source": [
    "print(df.head(10))"
   ]
  },
  {
   "cell_type": "code",
   "execution_count": 5,
   "id": "a027f8d0-08f7-459d-883a-cc313c3e60e2",
   "metadata": {},
   "outputs": [
    {
     "name": "stdout",
     "output_type": "stream",
     "text": [
      "<class 'pandas.core.frame.DataFrame'>\n",
      "RangeIndex: 8675 entries, 0 to 8674\n",
      "Data columns (total 2 columns):\n",
      " #   Column  Non-Null Count  Dtype \n",
      "---  ------  --------------  ----- \n",
      " 0   type    8675 non-null   object\n",
      " 1   posts   8675 non-null   object\n",
      "dtypes: object(2)\n",
      "memory usage: 135.7+ KB\n",
      "None\n"
     ]
    }
   ],
   "source": [
    "print(df.info())"
   ]
  },
  {
   "cell_type": "code",
   "execution_count": 6,
   "id": "a2594b1d-d850-4772-ba8b-140172c2310a",
   "metadata": {},
   "outputs": [],
   "source": [
    "#Data Processing"
   ]
  },
  {
   "cell_type": "code",
   "execution_count": 7,
   "id": "e3b6ae48-577b-4de7-b223-b41a13bf3f85",
   "metadata": {},
   "outputs": [],
   "source": [
    "def cleanText(text):\n",
    "    text = re.sub(r'\\|\\|\\|', r' ', text) \n",
    "    text = re.sub(r'http\\S+', '', text)\n",
    "    text = text.replace(\"|||\",\" \")\n",
    "    text=text.lower()\n",
    "    text = re.sub(r\"http\\S+\", \"\", text, flags=re.MULTILINE)\n",
    "\n",
    "    return text"
   ]
  },
  {
   "cell_type": "code",
   "execution_count": 8,
   "id": "a5ec2a37-504e-45ed-9169-ac4e56807649",
   "metadata": {},
   "outputs": [
    {
     "data": {
      "text/html": [
       "<div>\n",
       "<style scoped>\n",
       "    .dataframe tbody tr th:only-of-type {\n",
       "        vertical-align: middle;\n",
       "    }\n",
       "\n",
       "    .dataframe tbody tr th {\n",
       "        vertical-align: top;\n",
       "    }\n",
       "\n",
       "    .dataframe thead th {\n",
       "        text-align: right;\n",
       "    }\n",
       "</style>\n",
       "<table border=\"1\" class=\"dataframe\">\n",
       "  <thead>\n",
       "    <tr style=\"text-align: right;\">\n",
       "      <th></th>\n",
       "      <th>type</th>\n",
       "      <th>posts</th>\n",
       "    </tr>\n",
       "  </thead>\n",
       "  <tbody>\n",
       "    <tr>\n",
       "      <th>0</th>\n",
       "      <td>INFJ</td>\n",
       "      <td>'  enfp and intj moments    sportscenter not t...</td>\n",
       "    </tr>\n",
       "    <tr>\n",
       "      <th>1</th>\n",
       "      <td>ENTP</td>\n",
       "      <td>'i'm finding the lack of me in these posts ver...</td>\n",
       "    </tr>\n",
       "    <tr>\n",
       "      <th>2</th>\n",
       "      <td>INTP</td>\n",
       "      <td>'good one  _____    of course, to which i say ...</td>\n",
       "    </tr>\n",
       "    <tr>\n",
       "      <th>3</th>\n",
       "      <td>INTJ</td>\n",
       "      <td>'dear intp,   i enjoyed our conversation the o...</td>\n",
       "    </tr>\n",
       "    <tr>\n",
       "      <th>4</th>\n",
       "      <td>ENTJ</td>\n",
       "      <td>'you're fired. that's another silly misconcept...</td>\n",
       "    </tr>\n",
       "  </tbody>\n",
       "</table>\n",
       "</div>"
      ],
      "text/plain": [
       "   type                                              posts\n",
       "0  INFJ  '  enfp and intj moments    sportscenter not t...\n",
       "1  ENTP  'i'm finding the lack of me in these posts ver...\n",
       "2  INTP  'good one  _____    of course, to which i say ...\n",
       "3  INTJ  'dear intp,   i enjoyed our conversation the o...\n",
       "4  ENTJ  'you're fired. that's another silly misconcept..."
      ]
     },
     "execution_count": 8,
     "metadata": {},
     "output_type": "execute_result"
    }
   ],
   "source": [
    "df['posts'] = df['posts'].apply(cleanText)\n",
    "df.head()"
   ]
  },
  {
   "cell_type": "code",
   "execution_count": 9,
   "id": "c4eea230-83a1-4176-82ca-11b78d89c29a",
   "metadata": {},
   "outputs": [
    {
     "data": {
      "image/png": "[encoded data removed]",
      "text/plain": [
       "<Figure size 640x480 with 1 Axes>"
      ]
     },
     "metadata": {},
     "output_type": "display_data"
    }
   ],
   "source": [
    "dist = df['type'].value_counts()\n",
    "plt.hlines(y=list(range(16)), xmin=0, xmax=dist, color='skyblue')\n",
    "plt.plot(dist, list(range(16)), \"D\")\n",
    "plt.title(\"Words Per Personality/User\")\n",
    "plt.yticks(list(range(16)), dist.index)\n",
    "plt.show()\n"
   ]
  },
  {
   "cell_type": "code",
   "execution_count": 10,
   "id": "082906ce-e160-43b1-9ba0-da6f717e206c",
   "metadata": {},
   "outputs": [],
   "source": [
    "#Dividing the 16 personalities into 4 major groups for ease\n",
    "map1 = {\"I\": 0, \"E\": 1}\n",
    "map2 = {\"N\": 0, \"S\": 1}\n",
    "map3 = {\"T\": 0, \"F\": 1}\n",
    "map4 = {\"J\": 0, \"P\": 1}\n",
    "df['I-E'] = df['type'].astype(str).str[0]\n",
    "df['I-E'] = df['I-E'].map(map1)\n",
    "df['N-S'] = df['type'].astype(str).str[1]\n",
    "df['N-S'] = df['N-S'].map(map2)\n",
    "df['T-F'] = df['type'].astype(str).str[2]\n",
    "df['T-F'] = df['T-F'].map(map3)\n",
    "df['J-P'] = df['type'].astype(str).str[3]\n",
    "df['J-P'] = df['J-P'].map(map4)\n"
   ]
  },
  {
   "cell_type": "code",
   "execution_count": 11,
   "id": "1694fab9-4ba2-44c4-a4de-8f965684b17f",
   "metadata": {},
   "outputs": [],
   "source": [
    "df['http_per_comment'] = df['posts'].apply(lambda x: x.count('http')/50)\n",
    "df['music_per_comment'] = df['posts'].apply(lambda x: x.count('music')/50)\n",
    "df['question_per_comment'] = df['posts'].apply(lambda x: x.count('?')/50)\n",
    "df['img_per_comment'] = df['posts'].apply(lambda x: x.count('jpg')/50)\n",
    "df['excl_per_comment'] = df['posts'].apply(lambda x: x.count('!')/50)\n",
    "df['ellipsis_per_comment'] = df['posts'].apply(lambda x: x.count('...')/50)"
   ]
  },
  {
   "cell_type": "code",
   "execution_count": 12,
   "id": "bb18db85-1e87-49dc-b5b6-598fce97ddd0",
   "metadata": {},
   "outputs": [],
   "source": [
    "#Building ML on 'type' column \n",
    "X = df.drop(['type','posts','I-E','N-S','T-F','J-P'], axis=1).values\n",
    "y = df['type'].values\n"
   ]
  },
  {
   "cell_type": "code",
   "execution_count": 13,
   "id": "d87b5a6a-0d12-491c-931f-396bfc33ed9c",
   "metadata": {},
   "outputs": [
    {
     "name": "stdout",
     "output_type": "stream",
     "text": [
      "(8675,)\n",
      "(8675, 6)\n"
     ]
    }
   ],
   "source": [
    "print(y.shape)\n",
    "print(X.shape)"
   ]
  },
  {
   "cell_type": "code",
   "execution_count": 14,
   "id": "65dc81fd-6882-42d1-b3f1-c08257912fe9",
   "metadata": {},
   "outputs": [],
   "source": [
    "X_train,X_test,y_train,y_test = train_test_split(X,y,test_size = 0.3, random_state=5)"
   ]
  },
  {
   "cell_type": "code",
   "execution_count": 15,
   "id": "9c4cef2e-e6ea-4e31-9566-1dc1c0014fc6",
   "metadata": {},
   "outputs": [
    {
     "name": "stdout",
     "output_type": "stream",
     "text": [
      "Training Data Set 91.95 %\n",
      "Testing Data Set 17.6 %\n",
      "23.39 %\n"
     ]
    }
   ],
   "source": [
    "# Random Forest\n",
    "random_forest = RandomForestClassifier(n_estimators=100)\n",
    "random_forest.fit(X_train, y_train)\n",
    "\n",
    "Y_prediction = random_forest.predict(X_test)\n",
    "\n",
    "random_forest.score(X_train, y_train)\n",
    "acc_random_forest = round(random_forest.score(X_train, y_train) * 100, 2)\n",
    "print(\"Training Data Set\",round(acc_random_forest,2,), \"%\")\n",
    "\n",
    "acc_random_forest = round(random_forest.score(X_test, y_test) * 100, 2)\n",
    "print(\"Testing Data Set\", round(acc_random_forest,2,), \"%\")\n",
    "# Logistic Regression\n",
    "logreg = LogisticRegression()\n",
    "logreg.fit(X_train, y_train)\n",
    "\n",
    "Y_pred = logreg.predict(X_test)\n",
    "\n",
    "acc_log = round(logreg.score(X_train, y_train) * 100, 2)\n",
    "print(round(acc_log,2,), \"%\")\n"
   ]
  },
  {
   "cell_type": "code",
   "execution_count": 16,
   "id": "e94c84a8-0a6d-4169-a1f4-d2e7d8d7e239",
   "metadata": {},
   "outputs": [
    {
     "data": {
      "text/plain": [
       "str"
      ]
     },
     "execution_count": 16,
     "metadata": {},
     "output_type": "execute_result"
    }
   ],
   "source": [
    "type(y_train[0])"
   ]
  },
  {
   "cell_type": "code",
   "execution_count": 17,
   "id": "f02b75ef-dd68-4a66-b4ff-d13491fb9935",
   "metadata": {},
   "outputs": [
    {
     "name": "stdout",
     "output_type": "stream",
     "text": [
      "47.46 %\n"
     ]
    }
   ],
   "source": [
    "# KNN\n",
    "knn = KNeighborsClassifier(n_neighbors = 3)\n",
    "knn.fit(X_train, y_train)\n",
    "\n",
    "Y_pred = knn.predict(X_test)\n",
    "\n",
    "acc_knn = round(knn.score(X_train, y_train) * 100, 2)\n",
    "print(round(acc_knn,2,), \"%\")\n"
   ]
  },
  {
   "cell_type": "code",
   "execution_count": 18,
   "id": "9ecf82c3-525a-4f25-aa04-8f08600524f5",
   "metadata": {},
   "outputs": [
    {
     "name": "stdout",
     "output_type": "stream",
     "text": [
      "outcome shape (8675,)\n",
      "input shape for machine learning data (8675, 9)\n"
     ]
    }
   ],
   "source": [
    "#Ml on judging/perceiving column\n",
    "X5 = df.drop(['type','posts','J-P'], axis=1).values\n",
    "y5 = df['J-P'].values\n",
    "\n",
    "print(\"outcome shape\",y5.shape)\n",
    "print(\"input shape for machine learning data\",X5.shape)"
   ]
  },
  {
   "cell_type": "code",
   "execution_count": 19,
   "id": "6db00bd2-803c-438b-94ba-cb2125fc5734",
   "metadata": {},
   "outputs": [
    {
     "name": "stdout",
     "output_type": "stream",
     "text": [
      "Random Forest Predictions Model 98.28 %\n"
     ]
    }
   ],
   "source": [
    "X5_train,X5_test,y5_train,y5_test=train_test_split(X5,y5,test_size = 0.1, random_state=5)\n",
    "\n",
    "random_forestt = RandomForestClassifier(n_estimators=100)\n",
    "random_forestt.fit(X5_train, y5_train)\n",
    "\n",
    "Y_prediction = random_forestt.predict(X5_test)\n",
    "\n",
    "random_forestt.score(X5_train, y5_train)\n",
    "acc_random_forestt = round(random_forestt.score(X5_train, y5_train) * 100, 2)\n",
    "print(\"Random Forest Predictions Model\",round(acc_random_forestt,2,), \"%\")"
   ]
  },
  {
   "cell_type": "code",
   "execution_count": 20,
   "id": "583043dd-ce48-4002-9450-1fbae8d79d58",
   "metadata": {},
   "outputs": [
    {
     "name": "stdout",
     "output_type": "stream",
     "text": [
      "Logisitic Regression Prediction Accuracy 60.39 %\n"
     ]
    }
   ],
   "source": [
    "# Logistic Regression\n",
    "logregg = LogisticRegression()\n",
    "logregg.fit(X5_train, y5_train)\n",
    "\n",
    "Y_predd = logregg.predict(X5_test)\n",
    "\n",
    "acc_logg = round(logregg.score(X5_train, y5_train) * 100, 2)\n",
    "print(\"Logisitic Regression Prediction Accuracy\",round(acc_logg,2,), \"%\")"
   ]
  },
  {
   "cell_type": "code",
   "execution_count": 21,
   "id": "2e127690-b734-4581-a962-47466b3a631e",
   "metadata": {},
   "outputs": [
    {
     "name": "stdout",
     "output_type": "stream",
     "text": [
      "Knn neighbor prediction value 77.01 %\n"
     ]
    }
   ],
   "source": [
    "# KNN\n",
    "knnn = KNeighborsClassifier(n_neighbors = 3)\n",
    "knnn.fit(X5_train, y5_train)\n",
    "\n",
    "Y_predd = knnn.predict(X5_test)\n",
    "\n",
    "acc_knnn = round(knnn.score(X5_train, y5_train) * 100, 2)\n",
    "print(\"Knn neighbor prediction value\",round(acc_knnn,2,), \"%\")"
   ]
  },
  {
   "cell_type": "code",
   "execution_count": null,
   "id": "07629fe8-def8-49aa-9898-ac983d858020",
   "metadata": {},
   "outputs": [],
   "source": []
  }
 ],
 "metadata": {
  "kernelspec": {
   "display_name": "Python 3 (ipykernel)",
   "language": "python",
   "name": "python3"
  },
  "language_info": {
   "codemirror_mode": {
    "name": "ipython",
    "version": 3
   },
   "file_extension": ".py",
   "mimetype": "text/x-python",
   "name": "python",
   "nbconvert_exporter": "python",
   "pygments_lexer": "ipython3",
   "version": "3.12.4"
  }
 },
 "nbformat": 4,
 "nbformat_minor": 5
}
